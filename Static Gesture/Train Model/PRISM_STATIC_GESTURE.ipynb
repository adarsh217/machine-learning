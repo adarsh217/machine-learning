{
  "nbformat": 4,
  "nbformat_minor": 0,
  "metadata": {
    "accelerator": "GPU",
    "colab": {
      "name": "PRISM-STATIC GESTURE.ipynb",
      "provenance": [],
      "collapsed_sections": [
        "prn9cFxFeMMQ",
        "XCtKJDhTguxW"
      ],
      "toc_visible": true
    },
    "kernelspec": {
      "display_name": "Python 3",
      "name": "python3"
    }
  },
  "cells": [
    {
      "cell_type": "code",
      "metadata": {
        "colab": {
          "base_uri": "https://localhost:8080/"
        },
        "id": "S_Kl6jXjj81p",
        "outputId": "2af2b8b7-e92e-4f07-f6c9-81100fdf46ba"
      },
      "source": [
        "!rm -rf model/\n",
        "!rm model.zip\n",
        "!rm keras.h5"
      ],
      "execution_count": 1,
      "outputs": [
        {
          "output_type": "stream",
          "text": [
            "rm: cannot remove 'model.zip': No such file or directory\n",
            "rm: cannot remove 'keras.h5': No such file or directory\n"
          ],
          "name": "stdout"
        }
      ]
    },
    {
      "cell_type": "markdown",
      "metadata": {
        "id": "prn9cFxFeMMQ"
      },
      "source": [
        "#Initialize"
      ]
    },
    {
      "cell_type": "code",
      "metadata": {
        "id": "W71I_JqTu29i"
      },
      "source": [
        "import numpy as np\n",
        "import tensorflow as tf\n",
        "from tensorflow import keras\n",
        "import pandas as pd\n",
        "import seaborn as sns\n",
        "from pylab import rcParams\n",
        "import matplotlib.pyplot as plt\n",
        "from matplotlib import rc\n",
        "from pandas.plotting import register_matplotlib_converters\n",
        "\n",
        "from sklearn import __version__ as sk_version\n",
        "from sklearn.model_selection import train_test_split\n",
        "from sklearn.preprocessing import LabelEncoder\n",
        "from sklearn.metrics import accuracy_score\n",
        "from sklearn.metrics import classification_report\n",
        "\n",
        "%matplotlib inline\n",
        "%config InlineBackend.figure_format='retina'\n",
        "\n",
        "register_matplotlib_converters()\n",
        "sns.set(style='whitegrid', palette='muted', font_scale=1.5)\n",
        "\n",
        "rcParams['figure.figsize'] = 22, 10\n",
        "\n",
        "RANDOM_SEED = 42\n",
        "\n",
        "np.random.seed(RANDOM_SEED)\n",
        "tf.random.set_seed(RANDOM_SEED)"
      ],
      "execution_count": 1,
      "outputs": []
    },
    {
      "cell_type": "markdown",
      "metadata": {
        "id": "iusR0COEjTZW"
      },
      "source": [
        "# Reading and Normalizing Train Dataset\n"
      ]
    },
    {
      "cell_type": "code",
      "metadata": {
        "id": "541n3GxcjTZX"
      },
      "source": [
        "df_train = pd.read_csv(\"/content/Static gesture train.csv\")\n",
        "df_train.reset_index(level=None, drop=False, inplace=True, col_level=0, col_fill='')"
      ],
      "execution_count": 2,
      "outputs": []
    },
    {
      "cell_type": "code",
      "metadata": {
        "colab": {
          "base_uri": "https://localhost:8080/",
          "height": 224
        },
        "id": "NOOmw_jjjTZZ",
        "outputId": "1ed1b5fa-23fb-4c88-c8be-81109d0ae978"
      },
      "source": [
        "df_train.head()"
      ],
      "execution_count": 3,
      "outputs": [
        {
          "output_type": "execute_result",
          "data": {
            "text/html": [
              "<div>\n",
              "<style scoped>\n",
              "    .dataframe tbody tr th:only-of-type {\n",
              "        vertical-align: middle;\n",
              "    }\n",
              "\n",
              "    .dataframe tbody tr th {\n",
              "        vertical-align: top;\n",
              "    }\n",
              "\n",
              "    .dataframe thead th {\n",
              "        text-align: right;\n",
              "    }\n",
              "</style>\n",
              "<table border=\"1\" class=\"dataframe\">\n",
              "  <thead>\n",
              "    <tr style=\"text-align: right;\">\n",
              "      <th></th>\n",
              "      <th>index</th>\n",
              "      <th>x1</th>\n",
              "      <th>y1</th>\n",
              "      <th>x2</th>\n",
              "      <th>y2</th>\n",
              "      <th>x3</th>\n",
              "      <th>y3</th>\n",
              "      <th>x4</th>\n",
              "      <th>y4</th>\n",
              "      <th>x5</th>\n",
              "      <th>y5</th>\n",
              "      <th>x6</th>\n",
              "      <th>y6</th>\n",
              "      <th>x7</th>\n",
              "      <th>y7</th>\n",
              "      <th>x8</th>\n",
              "      <th>y8</th>\n",
              "      <th>x9</th>\n",
              "      <th>y9</th>\n",
              "      <th>x10</th>\n",
              "      <th>y10</th>\n",
              "      <th>x11</th>\n",
              "      <th>y11</th>\n",
              "      <th>x12</th>\n",
              "      <th>y12</th>\n",
              "      <th>x13</th>\n",
              "      <th>y13</th>\n",
              "      <th>x14</th>\n",
              "      <th>y14</th>\n",
              "      <th>x15</th>\n",
              "      <th>y15</th>\n",
              "      <th>x16</th>\n",
              "      <th>y16</th>\n",
              "      <th>x17</th>\n",
              "      <th>y17</th>\n",
              "      <th>label</th>\n",
              "    </tr>\n",
              "  </thead>\n",
              "  <tbody>\n",
              "    <tr>\n",
              "      <th>0</th>\n",
              "      <td>0</td>\n",
              "      <td>299.468358</td>\n",
              "      <td>165.700351</td>\n",
              "      <td>307.221066</td>\n",
              "      <td>156.427451</td>\n",
              "      <td>286.280538</td>\n",
              "      <td>157.338695</td>\n",
              "      <td>324.557804</td>\n",
              "      <td>163.005888</td>\n",
              "      <td>272.788098</td>\n",
              "      <td>169.601209</td>\n",
              "      <td>349.699709</td>\n",
              "      <td>232.251673</td>\n",
              "      <td>262.563668</td>\n",
              "      <td>238.649076</td>\n",
              "      <td>373.167183</td>\n",
              "      <td>330.463750</td>\n",
              "      <td>237.214419</td>\n",
              "      <td>345.258265</td>\n",
              "      <td>314.773931</td>\n",
              "      <td>331.959139</td>\n",
              "      <td>324.757369</td>\n",
              "      <td>327.627913</td>\n",
              "      <td>348.513591</td>\n",
              "      <td>457.552441</td>\n",
              "      <td>282.914710</td>\n",
              "      <td>454.484379</td>\n",
              "      <td>324.236292</td>\n",
              "      <td>580.934641</td>\n",
              "      <td>278.711459</td>\n",
              "      <td>583.191410</td>\n",
              "      <td>319.990872</td>\n",
              "      <td>573.846053</td>\n",
              "      <td>284.797960</td>\n",
              "      <td>577.749097</td>\n",
              "      <td>f</td>\n",
              "    </tr>\n",
              "    <tr>\n",
              "      <th>1</th>\n",
              "      <td>1</td>\n",
              "      <td>299.308030</td>\n",
              "      <td>165.631052</td>\n",
              "      <td>307.154686</td>\n",
              "      <td>157.127951</td>\n",
              "      <td>285.745148</td>\n",
              "      <td>157.468348</td>\n",
              "      <td>324.128431</td>\n",
              "      <td>163.603682</td>\n",
              "      <td>272.284349</td>\n",
              "      <td>169.710263</td>\n",
              "      <td>353.988325</td>\n",
              "      <td>239.887109</td>\n",
              "      <td>263.388997</td>\n",
              "      <td>242.967045</td>\n",
              "      <td>379.598290</td>\n",
              "      <td>330.901616</td>\n",
              "      <td>237.598588</td>\n",
              "      <td>349.212749</td>\n",
              "      <td>314.090420</td>\n",
              "      <td>337.644550</td>\n",
              "      <td>318.646080</td>\n",
              "      <td>331.921363</td>\n",
              "      <td>349.553845</td>\n",
              "      <td>458.701089</td>\n",
              "      <td>282.866059</td>\n",
              "      <td>457.523143</td>\n",
              "      <td>320.542229</td>\n",
              "      <td>584.867561</td>\n",
              "      <td>273.381613</td>\n",
              "      <td>584.101696</td>\n",
              "      <td>316.507576</td>\n",
              "      <td>571.999737</td>\n",
              "      <td>277.781867</td>\n",
              "      <td>571.697600</td>\n",
              "      <td>f</td>\n",
              "    </tr>\n",
              "    <tr>\n",
              "      <th>2</th>\n",
              "      <td>2</td>\n",
              "      <td>297.196786</td>\n",
              "      <td>168.017039</td>\n",
              "      <td>306.036135</td>\n",
              "      <td>158.758533</td>\n",
              "      <td>285.467064</td>\n",
              "      <td>159.953332</td>\n",
              "      <td>324.423588</td>\n",
              "      <td>164.805635</td>\n",
              "      <td>274.172926</td>\n",
              "      <td>170.913285</td>\n",
              "      <td>353.042146</td>\n",
              "      <td>245.198063</td>\n",
              "      <td>264.254625</td>\n",
              "      <td>242.684823</td>\n",
              "      <td>378.875538</td>\n",
              "      <td>328.585451</td>\n",
              "      <td>242.831926</td>\n",
              "      <td>346.195097</td>\n",
              "      <td>311.696020</td>\n",
              "      <td>335.100796</td>\n",
              "      <td>315.129556</td>\n",
              "      <td>339.882475</td>\n",
              "      <td>352.057000</td>\n",
              "      <td>457.609641</td>\n",
              "      <td>283.239909</td>\n",
              "      <td>457.237767</td>\n",
              "      <td>339.260032</td>\n",
              "      <td>588.572680</td>\n",
              "      <td>275.727714</td>\n",
              "      <td>584.920336</td>\n",
              "      <td>313.327440</td>\n",
              "      <td>573.062293</td>\n",
              "      <td>277.995118</td>\n",
              "      <td>574.828567</td>\n",
              "      <td>f</td>\n",
              "    </tr>\n",
              "    <tr>\n",
              "      <th>3</th>\n",
              "      <td>3</td>\n",
              "      <td>299.845117</td>\n",
              "      <td>169.483981</td>\n",
              "      <td>308.752365</td>\n",
              "      <td>158.886658</td>\n",
              "      <td>287.406239</td>\n",
              "      <td>159.921882</td>\n",
              "      <td>325.425583</td>\n",
              "      <td>166.837261</td>\n",
              "      <td>275.025598</td>\n",
              "      <td>172.508068</td>\n",
              "      <td>356.769736</td>\n",
              "      <td>247.425987</td>\n",
              "      <td>264.124958</td>\n",
              "      <td>245.113876</td>\n",
              "      <td>383.315314</td>\n",
              "      <td>332.887299</td>\n",
              "      <td>242.958115</td>\n",
              "      <td>347.835381</td>\n",
              "      <td>352.373014</td>\n",
              "      <td>326.461983</td>\n",
              "      <td>328.441828</td>\n",
              "      <td>332.459655</td>\n",
              "      <td>349.373712</td>\n",
              "      <td>456.127598</td>\n",
              "      <td>284.144977</td>\n",
              "      <td>454.395028</td>\n",
              "      <td>319.120151</td>\n",
              "      <td>582.931471</td>\n",
              "      <td>274.727216</td>\n",
              "      <td>582.687380</td>\n",
              "      <td>316.608183</td>\n",
              "      <td>575.850183</td>\n",
              "      <td>279.445803</td>\n",
              "      <td>576.650291</td>\n",
              "      <td>f</td>\n",
              "    </tr>\n",
              "    <tr>\n",
              "      <th>4</th>\n",
              "      <td>4</td>\n",
              "      <td>301.889476</td>\n",
              "      <td>170.646783</td>\n",
              "      <td>310.652246</td>\n",
              "      <td>160.886264</td>\n",
              "      <td>289.602829</td>\n",
              "      <td>161.366766</td>\n",
              "      <td>325.819976</td>\n",
              "      <td>169.050989</td>\n",
              "      <td>276.265628</td>\n",
              "      <td>172.607431</td>\n",
              "      <td>356.664997</td>\n",
              "      <td>245.186747</td>\n",
              "      <td>265.018925</td>\n",
              "      <td>244.338936</td>\n",
              "      <td>382.636604</td>\n",
              "      <td>332.257772</td>\n",
              "      <td>243.014741</td>\n",
              "      <td>348.672899</td>\n",
              "      <td>346.478254</td>\n",
              "      <td>327.166940</td>\n",
              "      <td>326.455237</td>\n",
              "      <td>334.800897</td>\n",
              "      <td>351.350967</td>\n",
              "      <td>456.549276</td>\n",
              "      <td>283.033554</td>\n",
              "      <td>458.412500</td>\n",
              "      <td>339.037579</td>\n",
              "      <td>588.073842</td>\n",
              "      <td>271.271595</td>\n",
              "      <td>584.280080</td>\n",
              "      <td>317.637396</td>\n",
              "      <td>573.524371</td>\n",
              "      <td>275.883592</td>\n",
              "      <td>574.951316</td>\n",
              "      <td>f</td>\n",
              "    </tr>\n",
              "  </tbody>\n",
              "</table>\n",
              "</div>"
            ],
            "text/plain": [
              "   index          x1          y1  ...         x17         y17  label\n",
              "0      0  299.468358  165.700351  ...  284.797960  577.749097      f\n",
              "1      1  299.308030  165.631052  ...  277.781867  571.697600      f\n",
              "2      2  297.196786  168.017039  ...  277.995118  574.828567      f\n",
              "3      3  299.845117  169.483981  ...  279.445803  576.650291      f\n",
              "4      4  301.889476  170.646783  ...  275.883592  574.951316      f\n",
              "\n",
              "[5 rows x 36 columns]"
            ]
          },
          "metadata": {
            "tags": []
          },
          "execution_count": 3
        }
      ]
    },
    {
      "cell_type": "code",
      "metadata": {
        "colab": {
          "base_uri": "https://localhost:8080/"
        },
        "id": "_HajV4ptjTZa",
        "outputId": "c74b416a-3059-4aac-b0d1-a81c4f30edcd"
      },
      "source": [
        "df_train.shape"
      ],
      "execution_count": 4,
      "outputs": [
        {
          "output_type": "execute_result",
          "data": {
            "text/plain": [
              "(2125, 36)"
            ]
          },
          "metadata": {
            "tags": []
          },
          "execution_count": 4
        }
      ]
    },
    {
      "cell_type": "code",
      "metadata": {
        "colab": {
          "base_uri": "https://localhost:8080/",
          "height": 204
        },
        "id": "KqcAXtztf4Bn",
        "outputId": "65a2ca74-5df1-4214-891f-b09c424d6725"
      },
      "source": [
        "# (x6,y6) and (x7,y7) corresponds to shoulder keypoints\n",
        "# shoulderDistanceVec is (x6-x7, y6-y7) \n",
        "\n",
        "shoulderDistanceVec = pd.DataFrame(abs(np.subtract(df_train[['x6', 'y6']],df_train[['x7', 'y7']])))\n",
        "shoulderDistanceVec.head()"
      ],
      "execution_count": 5,
      "outputs": [
        {
          "output_type": "execute_result",
          "data": {
            "text/html": [
              "<div>\n",
              "<style scoped>\n",
              "    .dataframe tbody tr th:only-of-type {\n",
              "        vertical-align: middle;\n",
              "    }\n",
              "\n",
              "    .dataframe tbody tr th {\n",
              "        vertical-align: top;\n",
              "    }\n",
              "\n",
              "    .dataframe thead th {\n",
              "        text-align: right;\n",
              "    }\n",
              "</style>\n",
              "<table border=\"1\" class=\"dataframe\">\n",
              "  <thead>\n",
              "    <tr style=\"text-align: right;\">\n",
              "      <th></th>\n",
              "      <th>x6</th>\n",
              "      <th>y6</th>\n",
              "    </tr>\n",
              "  </thead>\n",
              "  <tbody>\n",
              "    <tr>\n",
              "      <th>0</th>\n",
              "      <td>87.136041</td>\n",
              "      <td>6.397403</td>\n",
              "    </tr>\n",
              "    <tr>\n",
              "      <th>1</th>\n",
              "      <td>90.599328</td>\n",
              "      <td>3.079936</td>\n",
              "    </tr>\n",
              "    <tr>\n",
              "      <th>2</th>\n",
              "      <td>88.787521</td>\n",
              "      <td>2.513239</td>\n",
              "    </tr>\n",
              "    <tr>\n",
              "      <th>3</th>\n",
              "      <td>92.644779</td>\n",
              "      <td>2.312110</td>\n",
              "    </tr>\n",
              "    <tr>\n",
              "      <th>4</th>\n",
              "      <td>91.646073</td>\n",
              "      <td>0.847812</td>\n",
              "    </tr>\n",
              "  </tbody>\n",
              "</table>\n",
              "</div>"
            ],
            "text/plain": [
              "          x6        y6\n",
              "0  87.136041  6.397403\n",
              "1  90.599328  3.079936\n",
              "2  88.787521  2.513239\n",
              "3  92.644779  2.312110\n",
              "4  91.646073  0.847812"
            ]
          },
          "metadata": {
            "tags": []
          },
          "execution_count": 5
        }
      ]
    },
    {
      "cell_type": "code",
      "metadata": {
        "colab": {
          "base_uri": "https://localhost:8080/",
          "height": 204
        },
        "id": "dQk7Lz-9f4rG",
        "outputId": "292b34bc-6f63-463a-b6da-6d6cb7237907"
      },
      "source": [
        "x = shoulderDistanceVec.x6.values\n",
        "y = shoulderDistanceVec.y6.values\n",
        "shoulderDistance = pd.DataFrame(np.sqrt(np.square(x) + np.square(y)))\n",
        "shoulderDistance.head()"
      ],
      "execution_count": 6,
      "outputs": [
        {
          "output_type": "execute_result",
          "data": {
            "text/html": [
              "<div>\n",
              "<style scoped>\n",
              "    .dataframe tbody tr th:only-of-type {\n",
              "        vertical-align: middle;\n",
              "    }\n",
              "\n",
              "    .dataframe tbody tr th {\n",
              "        vertical-align: top;\n",
              "    }\n",
              "\n",
              "    .dataframe thead th {\n",
              "        text-align: right;\n",
              "    }\n",
              "</style>\n",
              "<table border=\"1\" class=\"dataframe\">\n",
              "  <thead>\n",
              "    <tr style=\"text-align: right;\">\n",
              "      <th></th>\n",
              "      <th>0</th>\n",
              "    </tr>\n",
              "  </thead>\n",
              "  <tbody>\n",
              "    <tr>\n",
              "      <th>0</th>\n",
              "      <td>87.370570</td>\n",
              "    </tr>\n",
              "    <tr>\n",
              "      <th>1</th>\n",
              "      <td>90.651665</td>\n",
              "    </tr>\n",
              "    <tr>\n",
              "      <th>2</th>\n",
              "      <td>88.823084</td>\n",
              "    </tr>\n",
              "    <tr>\n",
              "      <th>3</th>\n",
              "      <td>92.673625</td>\n",
              "    </tr>\n",
              "    <tr>\n",
              "      <th>4</th>\n",
              "      <td>91.649994</td>\n",
              "    </tr>\n",
              "  </tbody>\n",
              "</table>\n",
              "</div>"
            ],
            "text/plain": [
              "           0\n",
              "0  87.370570\n",
              "1  90.651665\n",
              "2  88.823084\n",
              "3  92.673625\n",
              "4  91.649994"
            ]
          },
          "metadata": {
            "tags": []
          },
          "execution_count": 6
        }
      ]
    },
    {
      "cell_type": "code",
      "metadata": {
        "id": "Ej_yCRGWf4wE"
      },
      "source": [
        "# points = all the coodrinates present in the dataset\n",
        "points = [['x1', 'y1'], ['x2', 'y2'], ['x3', 'y3'], ['x4', 'y4'], ['x5', 'y5'], ['x6', 'y6'],\n",
        "       ['x7', 'y7'], ['x8', 'y8'], ['x9', 'y9'], ['x10', 'y10'], ['x11', 'y11'], ['x12', 'y12'], \n",
        "       ['x13', 'y13'], ['x14', 'y14'], ['x15', 'y15'], ['x16', 'y16'], ['x17', 'y17']]\n",
        "\n",
        "# (x1, y1) is the nose keypoint. For every keypoints, subtract nose keypoint then divide with shoulder distance \n",
        "for p in reversed(points):\n",
        "  df_train[p] = np.divide(np.subtract(df_train[p], df_train[['x1', 'y1']]), shoulderDistance)"
      ],
      "execution_count": 7,
      "outputs": []
    },
    {
      "cell_type": "code",
      "metadata": {
        "colab": {
          "base_uri": "https://localhost:8080/",
          "height": 224
        },
        "id": "ZpnQgLpwk_j5",
        "outputId": "18462e2a-1743-4969-8b5f-57f09fee9cc1"
      },
      "source": [
        "df_train.head(5)"
      ],
      "execution_count": 8,
      "outputs": [
        {
          "output_type": "execute_result",
          "data": {
            "text/html": [
              "<div>\n",
              "<style scoped>\n",
              "    .dataframe tbody tr th:only-of-type {\n",
              "        vertical-align: middle;\n",
              "    }\n",
              "\n",
              "    .dataframe tbody tr th {\n",
              "        vertical-align: top;\n",
              "    }\n",
              "\n",
              "    .dataframe thead th {\n",
              "        text-align: right;\n",
              "    }\n",
              "</style>\n",
              "<table border=\"1\" class=\"dataframe\">\n",
              "  <thead>\n",
              "    <tr style=\"text-align: right;\">\n",
              "      <th></th>\n",
              "      <th>index</th>\n",
              "      <th>x1</th>\n",
              "      <th>y1</th>\n",
              "      <th>x2</th>\n",
              "      <th>y2</th>\n",
              "      <th>x3</th>\n",
              "      <th>y3</th>\n",
              "      <th>x4</th>\n",
              "      <th>y4</th>\n",
              "      <th>x5</th>\n",
              "      <th>y5</th>\n",
              "      <th>x6</th>\n",
              "      <th>y6</th>\n",
              "      <th>x7</th>\n",
              "      <th>y7</th>\n",
              "      <th>x8</th>\n",
              "      <th>y8</th>\n",
              "      <th>x9</th>\n",
              "      <th>y9</th>\n",
              "      <th>x10</th>\n",
              "      <th>y10</th>\n",
              "      <th>x11</th>\n",
              "      <th>y11</th>\n",
              "      <th>x12</th>\n",
              "      <th>y12</th>\n",
              "      <th>x13</th>\n",
              "      <th>y13</th>\n",
              "      <th>x14</th>\n",
              "      <th>y14</th>\n",
              "      <th>x15</th>\n",
              "      <th>y15</th>\n",
              "      <th>x16</th>\n",
              "      <th>y16</th>\n",
              "      <th>x17</th>\n",
              "      <th>y17</th>\n",
              "      <th>label</th>\n",
              "    </tr>\n",
              "  </thead>\n",
              "  <tbody>\n",
              "    <tr>\n",
              "      <th>0</th>\n",
              "      <td>0</td>\n",
              "      <td>0.0</td>\n",
              "      <td>0.0</td>\n",
              "      <td>0.088734</td>\n",
              "      <td>-0.106133</td>\n",
              "      <td>-0.150941</td>\n",
              "      <td>-0.095703</td>\n",
              "      <td>0.287161</td>\n",
              "      <td>-0.030839</td>\n",
              "      <td>-0.305369</td>\n",
              "      <td>0.044647</td>\n",
              "      <td>0.574923</td>\n",
              "      <td>0.761713</td>\n",
              "      <td>-0.422393</td>\n",
              "      <td>0.834935</td>\n",
              "      <td>0.843520</td>\n",
              "      <td>1.885800</td>\n",
              "      <td>-0.712528</td>\n",
              "      <td>2.055130</td>\n",
              "      <td>0.175180</td>\n",
              "      <td>1.902915</td>\n",
              "      <td>0.289445</td>\n",
              "      <td>1.853342</td>\n",
              "      <td>0.561347</td>\n",
              "      <td>3.340394</td>\n",
              "      <td>-0.189465</td>\n",
              "      <td>3.305278</td>\n",
              "      <td>0.283481</td>\n",
              "      <td>4.752565</td>\n",
              "      <td>-0.237573</td>\n",
              "      <td>4.778395</td>\n",
              "      <td>0.234890</td>\n",
              "      <td>4.671432</td>\n",
              "      <td>-0.167910</td>\n",
              "      <td>4.716105</td>\n",
              "      <td>f</td>\n",
              "    </tr>\n",
              "    <tr>\n",
              "      <th>1</th>\n",
              "      <td>1</td>\n",
              "      <td>0.0</td>\n",
              "      <td>0.0</td>\n",
              "      <td>0.086558</td>\n",
              "      <td>-0.093800</td>\n",
              "      <td>-0.149615</td>\n",
              "      <td>-0.090045</td>\n",
              "      <td>0.273800</td>\n",
              "      <td>-0.022364</td>\n",
              "      <td>-0.298105</td>\n",
              "      <td>0.044999</td>\n",
              "      <td>0.603191</td>\n",
              "      <td>0.819136</td>\n",
              "      <td>-0.396231</td>\n",
              "      <td>0.853112</td>\n",
              "      <td>0.885701</td>\n",
              "      <td>1.823139</td>\n",
              "      <td>-0.680731</td>\n",
              "      <td>2.025133</td>\n",
              "      <td>0.163068</td>\n",
              "      <td>1.897522</td>\n",
              "      <td>0.213323</td>\n",
              "      <td>1.834388</td>\n",
              "      <td>0.554273</td>\n",
              "      <td>3.232925</td>\n",
              "      <td>-0.181375</td>\n",
              "      <td>3.219931</td>\n",
              "      <td>0.234239</td>\n",
              "      <td>4.624697</td>\n",
              "      <td>-0.286000</td>\n",
              "      <td>4.616249</td>\n",
              "      <td>0.189732</td>\n",
              "      <td>4.482749</td>\n",
              "      <td>-0.237460</td>\n",
              "      <td>4.479416</td>\n",
              "      <td>f</td>\n",
              "    </tr>\n",
              "    <tr>\n",
              "      <th>2</th>\n",
              "      <td>2</td>\n",
              "      <td>0.0</td>\n",
              "      <td>0.0</td>\n",
              "      <td>0.099516</td>\n",
              "      <td>-0.104235</td>\n",
              "      <td>-0.132057</td>\n",
              "      <td>-0.090784</td>\n",
              "      <td>0.306528</td>\n",
              "      <td>-0.036155</td>\n",
              "      <td>-0.259210</td>\n",
              "      <td>0.032607</td>\n",
              "      <td>0.628726</td>\n",
              "      <td>0.868930</td>\n",
              "      <td>-0.370874</td>\n",
              "      <td>0.840635</td>\n",
              "      <td>0.919567</td>\n",
              "      <td>1.807733</td>\n",
              "      <td>-0.612058</td>\n",
              "      <td>2.005988</td>\n",
              "      <td>0.163237</td>\n",
              "      <td>1.881085</td>\n",
              "      <td>0.201893</td>\n",
              "      <td>1.934919</td>\n",
              "      <td>0.617635</td>\n",
              "      <td>3.260330</td>\n",
              "      <td>-0.157131</td>\n",
              "      <td>3.256144</td>\n",
              "      <td>0.473562</td>\n",
              "      <td>4.734756</td>\n",
              "      <td>-0.241706</td>\n",
              "      <td>4.693637</td>\n",
              "      <td>0.181604</td>\n",
              "      <td>4.560135</td>\n",
              "      <td>-0.216179</td>\n",
              "      <td>4.580020</td>\n",
              "      <td>f</td>\n",
              "    </tr>\n",
              "    <tr>\n",
              "      <th>3</th>\n",
              "      <td>3</td>\n",
              "      <td>0.0</td>\n",
              "      <td>0.0</td>\n",
              "      <td>0.096114</td>\n",
              "      <td>-0.114351</td>\n",
              "      <td>-0.134222</td>\n",
              "      <td>-0.103180</td>\n",
              "      <td>0.276027</td>\n",
              "      <td>-0.028560</td>\n",
              "      <td>-0.267816</td>\n",
              "      <td>0.032632</td>\n",
              "      <td>0.614248</td>\n",
              "      <td>0.841038</td>\n",
              "      <td>-0.385440</td>\n",
              "      <td>0.816089</td>\n",
              "      <td>0.900690</td>\n",
              "      <td>1.763213</td>\n",
              "      <td>-0.613842</td>\n",
              "      <td>1.924511</td>\n",
              "      <td>0.566805</td>\n",
              "      <td>1.693880</td>\n",
              "      <td>0.308574</td>\n",
              "      <td>1.758598</td>\n",
              "      <td>0.534441</td>\n",
              "      <td>3.093044</td>\n",
              "      <td>-0.169413</td>\n",
              "      <td>3.074349</td>\n",
              "      <td>0.207988</td>\n",
              "      <td>4.461329</td>\n",
              "      <td>-0.271036</td>\n",
              "      <td>4.458695</td>\n",
              "      <td>0.180883</td>\n",
              "      <td>4.384917</td>\n",
              "      <td>-0.220120</td>\n",
              "      <td>4.393551</td>\n",
              "      <td>f</td>\n",
              "    </tr>\n",
              "    <tr>\n",
              "      <th>4</th>\n",
              "      <td>4</td>\n",
              "      <td>0.0</td>\n",
              "      <td>0.0</td>\n",
              "      <td>0.095611</td>\n",
              "      <td>-0.106498</td>\n",
              "      <td>-0.134061</td>\n",
              "      <td>-0.101255</td>\n",
              "      <td>0.261107</td>\n",
              "      <td>-0.017412</td>\n",
              "      <td>-0.279584</td>\n",
              "      <td>0.021393</td>\n",
              "      <td>0.597660</td>\n",
              "      <td>0.813311</td>\n",
              "      <td>-0.402297</td>\n",
              "      <td>0.804061</td>\n",
              "      <td>0.881038</td>\n",
              "      <td>1.763350</td>\n",
              "      <td>-0.642387</td>\n",
              "      <td>1.942456</td>\n",
              "      <td>0.486512</td>\n",
              "      <td>1.707803</td>\n",
              "      <td>0.268039</td>\n",
              "      <td>1.791098</td>\n",
              "      <td>0.539678</td>\n",
              "      <td>3.119504</td>\n",
              "      <td>-0.205738</td>\n",
              "      <td>3.139833</td>\n",
              "      <td>0.405326</td>\n",
              "      <td>4.554578</td>\n",
              "      <td>-0.334074</td>\n",
              "      <td>4.513184</td>\n",
              "      <td>0.171827</td>\n",
              "      <td>4.395828</td>\n",
              "      <td>-0.283752</td>\n",
              "      <td>4.411397</td>\n",
              "      <td>f</td>\n",
              "    </tr>\n",
              "  </tbody>\n",
              "</table>\n",
              "</div>"
            ],
            "text/plain": [
              "   index   x1   y1        x2  ...       y16       x17       y17  label\n",
              "0      0  0.0  0.0  0.088734  ...  4.671432 -0.167910  4.716105      f\n",
              "1      1  0.0  0.0  0.086558  ...  4.482749 -0.237460  4.479416      f\n",
              "2      2  0.0  0.0  0.099516  ...  4.560135 -0.216179  4.580020      f\n",
              "3      3  0.0  0.0  0.096114  ...  4.384917 -0.220120  4.393551      f\n",
              "4      4  0.0  0.0  0.095611  ...  4.395828 -0.283752  4.411397      f\n",
              "\n",
              "[5 rows x 36 columns]"
            ]
          },
          "metadata": {
            "tags": []
          },
          "execution_count": 8
        }
      ]
    },
    {
      "cell_type": "code",
      "metadata": {
        "colab": {
          "base_uri": "https://localhost:8080/"
        },
        "id": "crKLpYj1LqOW",
        "outputId": "3a37e65e-1f63-43ed-c811-7678abd51a64"
      },
      "source": [
        "df_train.shape"
      ],
      "execution_count": 9,
      "outputs": [
        {
          "output_type": "execute_result",
          "data": {
            "text/plain": [
              "(2125, 36)"
            ]
          },
          "metadata": {
            "tags": []
          },
          "execution_count": 9
        }
      ]
    },
    {
      "cell_type": "markdown",
      "metadata": {
        "id": "8ZJD_9VnMRt2"
      },
      "source": [
        "#Reading and Normalizing Test Dataset"
      ]
    },
    {
      "cell_type": "code",
      "metadata": {
        "id": "O2NBOWnOK-I3"
      },
      "source": [
        "df_test = pd.read_csv(\"/content/Static gesture test.csv\")"
      ],
      "execution_count": 10,
      "outputs": []
    },
    {
      "cell_type": "code",
      "metadata": {
        "colab": {
          "base_uri": "https://localhost:8080/"
        },
        "id": "6H449P73xthR",
        "outputId": "bd9ced20-ae9b-48e0-d0cd-0f73b67b9a64"
      },
      "source": [
        "df_test.shape"
      ],
      "execution_count": 11,
      "outputs": [
        {
          "output_type": "execute_result",
          "data": {
            "text/plain": [
              "(655, 35)"
            ]
          },
          "metadata": {
            "tags": []
          },
          "execution_count": 11
        }
      ]
    },
    {
      "cell_type": "code",
      "metadata": {
        "colab": {
          "base_uri": "https://localhost:8080/",
          "height": 224
        },
        "id": "FTiIni7L6UTD",
        "outputId": "ced1d5d9-1edf-4020-91b1-bde837daa4d5"
      },
      "source": [
        "df_test.head()"
      ],
      "execution_count": 12,
      "outputs": [
        {
          "output_type": "execute_result",
          "data": {
            "text/html": [
              "<div>\n",
              "<style scoped>\n",
              "    .dataframe tbody tr th:only-of-type {\n",
              "        vertical-align: middle;\n",
              "    }\n",
              "\n",
              "    .dataframe tbody tr th {\n",
              "        vertical-align: top;\n",
              "    }\n",
              "\n",
              "    .dataframe thead th {\n",
              "        text-align: right;\n",
              "    }\n",
              "</style>\n",
              "<table border=\"1\" class=\"dataframe\">\n",
              "  <thead>\n",
              "    <tr style=\"text-align: right;\">\n",
              "      <th></th>\n",
              "      <th>x1</th>\n",
              "      <th>y1</th>\n",
              "      <th>x2</th>\n",
              "      <th>y2</th>\n",
              "      <th>x3</th>\n",
              "      <th>y3</th>\n",
              "      <th>x4</th>\n",
              "      <th>y4</th>\n",
              "      <th>x5</th>\n",
              "      <th>y5</th>\n",
              "      <th>x6</th>\n",
              "      <th>y6</th>\n",
              "      <th>x7</th>\n",
              "      <th>y7</th>\n",
              "      <th>x8</th>\n",
              "      <th>y8</th>\n",
              "      <th>x9</th>\n",
              "      <th>y9</th>\n",
              "      <th>x10</th>\n",
              "      <th>y10</th>\n",
              "      <th>x11</th>\n",
              "      <th>y11</th>\n",
              "      <th>x12</th>\n",
              "      <th>y12</th>\n",
              "      <th>x13</th>\n",
              "      <th>y13</th>\n",
              "      <th>x14</th>\n",
              "      <th>y14</th>\n",
              "      <th>x15</th>\n",
              "      <th>y15</th>\n",
              "      <th>x16</th>\n",
              "      <th>y16</th>\n",
              "      <th>x17</th>\n",
              "      <th>y17</th>\n",
              "      <th>label</th>\n",
              "    </tr>\n",
              "  </thead>\n",
              "  <tbody>\n",
              "    <tr>\n",
              "      <th>0</th>\n",
              "      <td>385.464510</td>\n",
              "      <td>108.698761</td>\n",
              "      <td>395.736983</td>\n",
              "      <td>96.796849</td>\n",
              "      <td>371.004236</td>\n",
              "      <td>96.534779</td>\n",
              "      <td>413.602478</td>\n",
              "      <td>107.249514</td>\n",
              "      <td>352.679552</td>\n",
              "      <td>108.590445</td>\n",
              "      <td>451.912077</td>\n",
              "      <td>195.172379</td>\n",
              "      <td>329.678922</td>\n",
              "      <td>205.569989</td>\n",
              "      <td>480.808030</td>\n",
              "      <td>318.979705</td>\n",
              "      <td>303.519003</td>\n",
              "      <td>326.425734</td>\n",
              "      <td>484.309466</td>\n",
              "      <td>430.912934</td>\n",
              "      <td>285.985617</td>\n",
              "      <td>442.831480</td>\n",
              "      <td>430.607122</td>\n",
              "      <td>430.531492</td>\n",
              "      <td>351.621901</td>\n",
              "      <td>427.977732</td>\n",
              "      <td>388.675297</td>\n",
              "      <td>589.940520</td>\n",
              "      <td>375.188627</td>\n",
              "      <td>587.916260</td>\n",
              "      <td>392.092594</td>\n",
              "      <td>571.743728</td>\n",
              "      <td>405.389348</td>\n",
              "      <td>573.277958</td>\n",
              "      <td>n</td>\n",
              "    </tr>\n",
              "    <tr>\n",
              "      <th>1</th>\n",
              "      <td>396.801557</td>\n",
              "      <td>113.083168</td>\n",
              "      <td>406.296336</td>\n",
              "      <td>99.683245</td>\n",
              "      <td>384.310316</td>\n",
              "      <td>100.408700</td>\n",
              "      <td>425.178156</td>\n",
              "      <td>107.115630</td>\n",
              "      <td>364.810855</td>\n",
              "      <td>112.915730</td>\n",
              "      <td>465.287327</td>\n",
              "      <td>195.657698</td>\n",
              "      <td>348.951091</td>\n",
              "      <td>204.029483</td>\n",
              "      <td>504.455259</td>\n",
              "      <td>305.981641</td>\n",
              "      <td>322.906255</td>\n",
              "      <td>319.381999</td>\n",
              "      <td>500.012680</td>\n",
              "      <td>410.048785</td>\n",
              "      <td>303.149479</td>\n",
              "      <td>436.761332</td>\n",
              "      <td>444.267521</td>\n",
              "      <td>413.917020</td>\n",
              "      <td>366.547602</td>\n",
              "      <td>426.840748</td>\n",
              "      <td>422.315841</td>\n",
              "      <td>584.846431</td>\n",
              "      <td>406.088466</td>\n",
              "      <td>579.878326</td>\n",
              "      <td>430.643331</td>\n",
              "      <td>577.910612</td>\n",
              "      <td>436.418831</td>\n",
              "      <td>578.834772</td>\n",
              "      <td>n</td>\n",
              "    </tr>\n",
              "    <tr>\n",
              "      <th>2</th>\n",
              "      <td>404.802196</td>\n",
              "      <td>114.809551</td>\n",
              "      <td>417.385849</td>\n",
              "      <td>100.761703</td>\n",
              "      <td>390.914132</td>\n",
              "      <td>102.098653</td>\n",
              "      <td>435.288703</td>\n",
              "      <td>111.538419</td>\n",
              "      <td>373.322534</td>\n",
              "      <td>114.202551</td>\n",
              "      <td>473.307537</td>\n",
              "      <td>196.149586</td>\n",
              "      <td>356.370313</td>\n",
              "      <td>206.018619</td>\n",
              "      <td>508.985788</td>\n",
              "      <td>313.723744</td>\n",
              "      <td>331.866158</td>\n",
              "      <td>317.510251</td>\n",
              "      <td>511.164268</td>\n",
              "      <td>428.673588</td>\n",
              "      <td>320.582674</td>\n",
              "      <td>425.547625</td>\n",
              "      <td>448.901541</td>\n",
              "      <td>430.925285</td>\n",
              "      <td>372.622284</td>\n",
              "      <td>429.213232</td>\n",
              "      <td>425.028216</td>\n",
              "      <td>580.727879</td>\n",
              "      <td>415.814896</td>\n",
              "      <td>580.787950</td>\n",
              "      <td>396.718561</td>\n",
              "      <td>578.079573</td>\n",
              "      <td>449.147624</td>\n",
              "      <td>575.622612</td>\n",
              "      <td>n</td>\n",
              "    </tr>\n",
              "    <tr>\n",
              "      <th>3</th>\n",
              "      <td>410.012453</td>\n",
              "      <td>116.752080</td>\n",
              "      <td>422.885280</td>\n",
              "      <td>105.401841</td>\n",
              "      <td>397.330389</td>\n",
              "      <td>106.013025</td>\n",
              "      <td>441.769869</td>\n",
              "      <td>112.734301</td>\n",
              "      <td>381.505083</td>\n",
              "      <td>117.264844</td>\n",
              "      <td>481.402663</td>\n",
              "      <td>196.080725</td>\n",
              "      <td>363.808631</td>\n",
              "      <td>205.564260</td>\n",
              "      <td>512.173723</td>\n",
              "      <td>317.162605</td>\n",
              "      <td>338.684303</td>\n",
              "      <td>320.935315</td>\n",
              "      <td>511.122464</td>\n",
              "      <td>417.016216</td>\n",
              "      <td>328.381324</td>\n",
              "      <td>435.737898</td>\n",
              "      <td>440.648091</td>\n",
              "      <td>413.582245</td>\n",
              "      <td>384.480189</td>\n",
              "      <td>414.246351</td>\n",
              "      <td>407.582358</td>\n",
              "      <td>575.911934</td>\n",
              "      <td>414.305021</td>\n",
              "      <td>575.838861</td>\n",
              "      <td>403.603348</td>\n",
              "      <td>570.843411</td>\n",
              "      <td>443.643464</td>\n",
              "      <td>574.568952</td>\n",
              "      <td>n</td>\n",
              "    </tr>\n",
              "    <tr>\n",
              "      <th>4</th>\n",
              "      <td>419.703964</td>\n",
              "      <td>118.339136</td>\n",
              "      <td>429.481832</td>\n",
              "      <td>105.740176</td>\n",
              "      <td>404.481033</td>\n",
              "      <td>105.171168</td>\n",
              "      <td>447.061325</td>\n",
              "      <td>112.689568</td>\n",
              "      <td>387.486108</td>\n",
              "      <td>119.190158</td>\n",
              "      <td>486.526348</td>\n",
              "      <td>199.311038</td>\n",
              "      <td>365.423975</td>\n",
              "      <td>208.800569</td>\n",
              "      <td>518.030245</td>\n",
              "      <td>316.755751</td>\n",
              "      <td>341.909325</td>\n",
              "      <td>322.281092</td>\n",
              "      <td>511.812176</td>\n",
              "      <td>417.574713</td>\n",
              "      <td>336.986723</td>\n",
              "      <td>427.626788</td>\n",
              "      <td>432.640954</td>\n",
              "      <td>423.936314</td>\n",
              "      <td>389.452848</td>\n",
              "      <td>422.839312</td>\n",
              "      <td>404.388300</td>\n",
              "      <td>577.049242</td>\n",
              "      <td>415.306507</td>\n",
              "      <td>576.427750</td>\n",
              "      <td>404.124298</td>\n",
              "      <td>570.487865</td>\n",
              "      <td>445.687865</td>\n",
              "      <td>573.464135</td>\n",
              "      <td>n</td>\n",
              "    </tr>\n",
              "  </tbody>\n",
              "</table>\n",
              "</div>"
            ],
            "text/plain": [
              "           x1          y1          x2  ...         x17         y17  label\n",
              "0  385.464510  108.698761  395.736983  ...  405.389348  573.277958      n\n",
              "1  396.801557  113.083168  406.296336  ...  436.418831  578.834772      n\n",
              "2  404.802196  114.809551  417.385849  ...  449.147624  575.622612      n\n",
              "3  410.012453  116.752080  422.885280  ...  443.643464  574.568952      n\n",
              "4  419.703964  118.339136  429.481832  ...  445.687865  573.464135      n\n",
              "\n",
              "[5 rows x 35 columns]"
            ]
          },
          "metadata": {
            "tags": []
          },
          "execution_count": 12
        }
      ]
    },
    {
      "cell_type": "code",
      "metadata": {
        "colab": {
          "base_uri": "https://localhost:8080/",
          "height": 204
        },
        "id": "8joFpkEhK-Ej",
        "outputId": "3990c025-f23b-4d35-b588-30697cbccfed"
      },
      "source": [
        "shoulderDistanceVec = pd.DataFrame(abs(np.subtract(df_test[['x6', 'y6']],df_test[['x7', 'y7']])))\n",
        "shoulderDistanceVec.head()"
      ],
      "execution_count": 13,
      "outputs": [
        {
          "output_type": "execute_result",
          "data": {
            "text/html": [
              "<div>\n",
              "<style scoped>\n",
              "    .dataframe tbody tr th:only-of-type {\n",
              "        vertical-align: middle;\n",
              "    }\n",
              "\n",
              "    .dataframe tbody tr th {\n",
              "        vertical-align: top;\n",
              "    }\n",
              "\n",
              "    .dataframe thead th {\n",
              "        text-align: right;\n",
              "    }\n",
              "</style>\n",
              "<table border=\"1\" class=\"dataframe\">\n",
              "  <thead>\n",
              "    <tr style=\"text-align: right;\">\n",
              "      <th></th>\n",
              "      <th>x6</th>\n",
              "      <th>y6</th>\n",
              "    </tr>\n",
              "  </thead>\n",
              "  <tbody>\n",
              "    <tr>\n",
              "      <th>0</th>\n",
              "      <td>122.233155</td>\n",
              "      <td>10.397610</td>\n",
              "    </tr>\n",
              "    <tr>\n",
              "      <th>1</th>\n",
              "      <td>116.336236</td>\n",
              "      <td>8.371785</td>\n",
              "    </tr>\n",
              "    <tr>\n",
              "      <th>2</th>\n",
              "      <td>116.937224</td>\n",
              "      <td>9.869032</td>\n",
              "    </tr>\n",
              "    <tr>\n",
              "      <th>3</th>\n",
              "      <td>117.594032</td>\n",
              "      <td>9.483535</td>\n",
              "    </tr>\n",
              "    <tr>\n",
              "      <th>4</th>\n",
              "      <td>121.102373</td>\n",
              "      <td>9.489531</td>\n",
              "    </tr>\n",
              "  </tbody>\n",
              "</table>\n",
              "</div>"
            ],
            "text/plain": [
              "           x6         y6\n",
              "0  122.233155  10.397610\n",
              "1  116.336236   8.371785\n",
              "2  116.937224   9.869032\n",
              "3  117.594032   9.483535\n",
              "4  121.102373   9.489531"
            ]
          },
          "metadata": {
            "tags": []
          },
          "execution_count": 13
        }
      ]
    },
    {
      "cell_type": "code",
      "metadata": {
        "colab": {
          "base_uri": "https://localhost:8080/",
          "height": 204
        },
        "id": "EOsulA3cK9_r",
        "outputId": "e8199098-b607-4903-d272-e63cb918d668"
      },
      "source": [
        "x = shoulderDistanceVec.x6.values\n",
        "y = shoulderDistanceVec.y6.values\n",
        "shoulderDistance = pd.DataFrame(np.sqrt(np.square(x) + np.square(y)))\n",
        "shoulderDistance.head()"
      ],
      "execution_count": 14,
      "outputs": [
        {
          "output_type": "execute_result",
          "data": {
            "text/html": [
              "<div>\n",
              "<style scoped>\n",
              "    .dataframe tbody tr th:only-of-type {\n",
              "        vertical-align: middle;\n",
              "    }\n",
              "\n",
              "    .dataframe tbody tr th {\n",
              "        vertical-align: top;\n",
              "    }\n",
              "\n",
              "    .dataframe thead th {\n",
              "        text-align: right;\n",
              "    }\n",
              "</style>\n",
              "<table border=\"1\" class=\"dataframe\">\n",
              "  <thead>\n",
              "    <tr style=\"text-align: right;\">\n",
              "      <th></th>\n",
              "      <th>0</th>\n",
              "    </tr>\n",
              "  </thead>\n",
              "  <tbody>\n",
              "    <tr>\n",
              "      <th>0</th>\n",
              "      <td>122.674588</td>\n",
              "    </tr>\n",
              "    <tr>\n",
              "      <th>1</th>\n",
              "      <td>116.637072</td>\n",
              "    </tr>\n",
              "    <tr>\n",
              "      <th>2</th>\n",
              "      <td>117.352939</td>\n",
              "    </tr>\n",
              "    <tr>\n",
              "      <th>3</th>\n",
              "      <td>117.975818</td>\n",
              "    </tr>\n",
              "    <tr>\n",
              "      <th>4</th>\n",
              "      <td>121.473602</td>\n",
              "    </tr>\n",
              "  </tbody>\n",
              "</table>\n",
              "</div>"
            ],
            "text/plain": [
              "            0\n",
              "0  122.674588\n",
              "1  116.637072\n",
              "2  117.352939\n",
              "3  117.975818\n",
              "4  121.473602"
            ]
          },
          "metadata": {
            "tags": []
          },
          "execution_count": 14
        }
      ]
    },
    {
      "cell_type": "code",
      "metadata": {
        "id": "tqkoseAeeDh9"
      },
      "source": [
        "points = [['x1', 'y1'], ['x2', 'y2'], ['x3', 'y3'], ['x4', 'y4'], ['x5', 'y5'], ['x6', 'y6'],\n",
        "       ['x7', 'y7'], ['x8', 'y8'], ['x9', 'y9'], ['x10', 'y10'], ['x11', 'y11'], ['x12', 'y12'], \n",
        "       ['x13', 'y13'], ['x14', 'y14'], ['x15', 'y15'], ['x16', 'y16'], ['x17', 'y17']]\n",
        "\n",
        "for p in reversed(points):\n",
        "  df_test[p] = np.divide(np.subtract(df_test[p], df_test[['x1', 'y1']]), shoulderDistance)"
      ],
      "execution_count": 15,
      "outputs": []
    },
    {
      "cell_type": "code",
      "metadata": {
        "colab": {
          "base_uri": "https://localhost:8080/",
          "height": 224
        },
        "id": "C_zT___fdyKf",
        "outputId": "c834495a-d20d-4d8c-e89d-6189dca66dd0"
      },
      "source": [
        "df_test.head()"
      ],
      "execution_count": 18,
      "outputs": [
        {
          "output_type": "execute_result",
          "data": {
            "text/html": [
              "<div>\n",
              "<style scoped>\n",
              "    .dataframe tbody tr th:only-of-type {\n",
              "        vertical-align: middle;\n",
              "    }\n",
              "\n",
              "    .dataframe tbody tr th {\n",
              "        vertical-align: top;\n",
              "    }\n",
              "\n",
              "    .dataframe thead th {\n",
              "        text-align: right;\n",
              "    }\n",
              "</style>\n",
              "<table border=\"1\" class=\"dataframe\">\n",
              "  <thead>\n",
              "    <tr style=\"text-align: right;\">\n",
              "      <th></th>\n",
              "      <th>x1</th>\n",
              "      <th>y1</th>\n",
              "      <th>x2</th>\n",
              "      <th>y2</th>\n",
              "      <th>x3</th>\n",
              "      <th>y3</th>\n",
              "      <th>x4</th>\n",
              "      <th>y4</th>\n",
              "      <th>x5</th>\n",
              "      <th>y5</th>\n",
              "      <th>x6</th>\n",
              "      <th>y6</th>\n",
              "      <th>x7</th>\n",
              "      <th>y7</th>\n",
              "      <th>x8</th>\n",
              "      <th>y8</th>\n",
              "      <th>x9</th>\n",
              "      <th>y9</th>\n",
              "      <th>x10</th>\n",
              "      <th>y10</th>\n",
              "      <th>x11</th>\n",
              "      <th>y11</th>\n",
              "      <th>x12</th>\n",
              "      <th>y12</th>\n",
              "      <th>x13</th>\n",
              "      <th>y13</th>\n",
              "      <th>label</th>\n",
              "    </tr>\n",
              "  </thead>\n",
              "  <tbody>\n",
              "    <tr>\n",
              "      <th>0</th>\n",
              "      <td>0.0</td>\n",
              "      <td>0.0</td>\n",
              "      <td>0.083738</td>\n",
              "      <td>-0.097020</td>\n",
              "      <td>-0.117875</td>\n",
              "      <td>-0.099156</td>\n",
              "      <td>0.229371</td>\n",
              "      <td>-0.011814</td>\n",
              "      <td>-0.267251</td>\n",
              "      <td>-0.000883</td>\n",
              "      <td>0.541657</td>\n",
              "      <td>0.704902</td>\n",
              "      <td>-0.454744</td>\n",
              "      <td>0.789660</td>\n",
              "      <td>0.777207</td>\n",
              "      <td>1.714136</td>\n",
              "      <td>-0.667991</td>\n",
              "      <td>1.774834</td>\n",
              "      <td>0.805749</td>\n",
              "      <td>2.626576</td>\n",
              "      <td>-0.810917</td>\n",
              "      <td>2.723732</td>\n",
              "      <td>0.367987</td>\n",
              "      <td>2.623467</td>\n",
              "      <td>-0.275873</td>\n",
              "      <td>2.602650</td>\n",
              "      <td>n</td>\n",
              "    </tr>\n",
              "    <tr>\n",
              "      <th>1</th>\n",
              "      <td>0.0</td>\n",
              "      <td>0.0</td>\n",
              "      <td>0.081404</td>\n",
              "      <td>-0.114886</td>\n",
              "      <td>-0.107095</td>\n",
              "      <td>-0.108666</td>\n",
              "      <td>0.243290</td>\n",
              "      <td>-0.051163</td>\n",
              "      <td>-0.274276</td>\n",
              "      <td>-0.001436</td>\n",
              "      <td>0.587170</td>\n",
              "      <td>0.707961</td>\n",
              "      <td>-0.410251</td>\n",
              "      <td>0.779738</td>\n",
              "      <td>0.922980</td>\n",
              "      <td>1.653835</td>\n",
              "      <td>-0.633549</td>\n",
              "      <td>1.768724</td>\n",
              "      <td>0.884891</td>\n",
              "      <td>2.546065</td>\n",
              "      <td>-0.802936</td>\n",
              "      <td>2.775088</td>\n",
              "      <td>0.406954</td>\n",
              "      <td>2.579230</td>\n",
              "      <td>-0.259385</td>\n",
              "      <td>2.690033</td>\n",
              "      <td>n</td>\n",
              "    </tr>\n",
              "    <tr>\n",
              "      <th>2</th>\n",
              "      <td>0.0</td>\n",
              "      <td>0.0</td>\n",
              "      <td>0.107229</td>\n",
              "      <td>-0.119706</td>\n",
              "      <td>-0.118344</td>\n",
              "      <td>-0.108313</td>\n",
              "      <td>0.259785</td>\n",
              "      <td>-0.027874</td>\n",
              "      <td>-0.268248</td>\n",
              "      <td>-0.005172</td>\n",
              "      <td>0.583755</td>\n",
              "      <td>0.693123</td>\n",
              "      <td>-0.412703</td>\n",
              "      <td>0.777220</td>\n",
              "      <td>0.887780</td>\n",
              "      <td>1.695008</td>\n",
              "      <td>-0.621510</td>\n",
              "      <td>1.727274</td>\n",
              "      <td>0.906343</td>\n",
              "      <td>2.674531</td>\n",
              "      <td>-0.717660</td>\n",
              "      <td>2.647893</td>\n",
              "      <td>0.375784</td>\n",
              "      <td>2.693718</td>\n",
              "      <td>-0.274215</td>\n",
              "      <td>2.679129</td>\n",
              "      <td>n</td>\n",
              "    </tr>\n",
              "    <tr>\n",
              "      <th>3</th>\n",
              "      <td>0.0</td>\n",
              "      <td>0.0</td>\n",
              "      <td>0.109114</td>\n",
              "      <td>-0.096208</td>\n",
              "      <td>-0.107497</td>\n",
              "      <td>-0.091028</td>\n",
              "      <td>0.269186</td>\n",
              "      <td>-0.034056</td>\n",
              "      <td>-0.241637</td>\n",
              "      <td>0.004346</td>\n",
              "      <td>0.605126</td>\n",
              "      <td>0.672414</td>\n",
              "      <td>-0.391638</td>\n",
              "      <td>0.752800</td>\n",
              "      <td>0.865951</td>\n",
              "      <td>1.698742</td>\n",
              "      <td>-0.604600</td>\n",
              "      <td>1.730721</td>\n",
              "      <td>0.857040</td>\n",
              "      <td>2.545133</td>\n",
              "      <td>-0.691931</td>\n",
              "      <td>2.703824</td>\n",
              "      <td>0.259677</td>\n",
              "      <td>2.516025</td>\n",
              "      <td>-0.216419</td>\n",
              "      <td>2.521655</td>\n",
              "      <td>n</td>\n",
              "    </tr>\n",
              "    <tr>\n",
              "      <th>4</th>\n",
              "      <td>0.0</td>\n",
              "      <td>0.0</td>\n",
              "      <td>0.080494</td>\n",
              "      <td>-0.103718</td>\n",
              "      <td>-0.125319</td>\n",
              "      <td>-0.108402</td>\n",
              "      <td>0.225212</td>\n",
              "      <td>-0.046509</td>\n",
              "      <td>-0.265225</td>\n",
              "      <td>0.007006</td>\n",
              "      <td>0.550098</td>\n",
              "      <td>0.666580</td>\n",
              "      <td>-0.446846</td>\n",
              "      <td>0.744700</td>\n",
              "      <td>0.809446</td>\n",
              "      <td>1.633413</td>\n",
              "      <td>-0.640424</td>\n",
              "      <td>1.678899</td>\n",
              "      <td>0.758257</td>\n",
              "      <td>2.463379</td>\n",
              "      <td>-0.680948</td>\n",
              "      <td>2.546131</td>\n",
              "      <td>0.106500</td>\n",
              "      <td>2.515750</td>\n",
              "      <td>-0.249034</td>\n",
              "      <td>2.506719</td>\n",
              "      <td>n</td>\n",
              "    </tr>\n",
              "  </tbody>\n",
              "</table>\n",
              "</div>"
            ],
            "text/plain": [
              "    x1   y1        x2        y2  ...       y12       x13       y13  label\n",
              "0  0.0  0.0  0.083738 -0.097020  ...  2.623467 -0.275873  2.602650      n\n",
              "1  0.0  0.0  0.081404 -0.114886  ...  2.579230 -0.259385  2.690033      n\n",
              "2  0.0  0.0  0.107229 -0.119706  ...  2.693718 -0.274215  2.679129      n\n",
              "3  0.0  0.0  0.109114 -0.096208  ...  2.516025 -0.216419  2.521655      n\n",
              "4  0.0  0.0  0.080494 -0.103718  ...  2.515750 -0.249034  2.506719      n\n",
              "\n",
              "[5 rows x 27 columns]"
            ]
          },
          "metadata": {
            "tags": []
          },
          "execution_count": 18
        }
      ]
    },
    {
      "cell_type": "markdown",
      "metadata": {
        "id": "ocW7GOrLe2cQ"
      },
      "source": [
        "#Create dataset (X_train, y_train, X_test, y_test)"
      ]
    },
    {
      "cell_type": "code",
      "metadata": {
        "id": "hd7I0oQGENCj"
      },
      "source": [
        "# For static gestures, we dropped left & right ankle, knee keypoints. We also dropped the nose keypoint (x1, y1), since after the normalization, \n",
        "# it becomes the origin and is always 0\n",
        "\n",
        "X_train = df_train[['x2', 'y2', 'x3', 'y3', 'x4', 'y4', 'x5', 'y5', 'x6', 'y6',\n",
        "       'x7', 'y7', 'x8', 'y8', 'x9', 'y9', 'x10', 'y10', 'x11', 'y11', 'x12',\n",
        "       'y12', 'x13', 'y13']]\n",
        "y_train = df_train.label \n",
        "y_train = pd.DataFrame(y_train)\n",
        "\n",
        "X_test = df_test[['x2', 'y2', 'x3', 'y3', 'x4', 'y4', 'x5', 'y5', 'x6', 'y6',\n",
        "       'x7', 'y7', 'x8', 'y8', 'x9', 'y9', 'x10', 'y10', 'x11', 'y11', 'x12',\n",
        "       'y12', 'x13', 'y13']]\n",
        "y_test = df_test.label \n",
        "y_test = pd.DataFrame(y_test)"
      ],
      "execution_count": 19,
      "outputs": []
    },
    {
      "cell_type": "code",
      "metadata": {
        "colab": {
          "base_uri": "https://localhost:8080/"
        },
        "id": "CuU62-LTODJw",
        "outputId": "2806416c-0652-4aee-d1c6-eccc4cede747"
      },
      "source": [
        "print(X_test.shape, y_test.shape)"
      ],
      "execution_count": 20,
      "outputs": [
        {
          "output_type": "stream",
          "text": [
            "(655, 24) (655, 1)\n"
          ],
          "name": "stdout"
        }
      ]
    },
    {
      "cell_type": "code",
      "metadata": {
        "colab": {
          "base_uri": "https://localhost:8080/"
        },
        "id": "Awgwkb1sxose",
        "outputId": "d5821566-efe0-4b35-c8cc-d5346a9643ea"
      },
      "source": [
        "print(X_train.shape, y_train.shape)"
      ],
      "execution_count": 21,
      "outputs": [
        {
          "output_type": "stream",
          "text": [
            "(2125, 24) (2125, 1)\n"
          ],
          "name": "stdout"
        }
      ]
    },
    {
      "cell_type": "markdown",
      "metadata": {
        "id": "G4dpfXKefJw9"
      },
      "source": [
        "#Encode the labels"
      ]
    },
    {
      "cell_type": "code",
      "metadata": {
        "id": "n5g5ww78TIj4"
      },
      "source": [
        "from sklearn.preprocessing import OneHotEncoder\n",
        "\n",
        "enc = OneHotEncoder(handle_unknown='ignore', sparse=False)\n",
        "\n",
        "enc = enc.fit(y_train)\n",
        "\n",
        "y_train = enc.transform(y_train)\n",
        "y_test = enc.transform(y_test)"
      ],
      "execution_count": 22,
      "outputs": []
    },
    {
      "cell_type": "code",
      "metadata": {
        "colab": {
          "base_uri": "https://localhost:8080/"
        },
        "id": "kV4UlzCkfQSF",
        "outputId": "4afa7874-afb8-4b3a-b724-fa73f8dc577c"
      },
      "source": [
        "print(X_train.shape, y_train.shape)"
      ],
      "execution_count": 23,
      "outputs": [
        {
          "output_type": "stream",
          "text": [
            "(2125, 24) (2125, 3)\n"
          ],
          "name": "stdout"
        }
      ]
    },
    {
      "cell_type": "code",
      "metadata": {
        "colab": {
          "base_uri": "https://localhost:8080/"
        },
        "id": "XbollPfpeTiu",
        "outputId": "cd30499b-9644-48ec-ff04-9be5ac0587f7"
      },
      "source": [
        "print(X_test.shape, y_test.shape)"
      ],
      "execution_count": 24,
      "outputs": [
        {
          "output_type": "stream",
          "text": [
            "(655, 24) (655, 3)\n"
          ],
          "name": "stdout"
        }
      ]
    },
    {
      "cell_type": "markdown",
      "metadata": {
        "id": "_yt9D3WzgHt8"
      },
      "source": [
        "#SIMPLE NEURAL NETWORK MODEL"
      ]
    },
    {
      "cell_type": "code",
      "metadata": {
        "colab": {
          "base_uri": "https://localhost:8080/"
        },
        "id": "iNrcW4jyG4Bg",
        "outputId": "26989533-d8f6-4208-a399-89c43f1ff300"
      },
      "source": [
        "model = keras.Sequential()\n",
        "model.add(keras.layers.Dense(units=24, input_shape=[X_train.shape[1]]))\n",
        "model.add(keras.layers.Dropout(rate=0.5))\n",
        "model.add(keras.layers.Dense(units=32, activation='relu'))\n",
        "model.add(keras.layers.Dense(y_train.shape[1], activation='softmax'))\n",
        "\n",
        "model.compile(loss='categorical_crossentropy', optimizer='adam', metrics=['acc'])\n",
        "\n",
        "history = model.fit(\n",
        "    X_train, y_train,\n",
        "    epochs=10,\n",
        "    batch_size=32,\n",
        "    # validation_split=0.1,\n",
        "    validation_data = (X_test, y_test),\n",
        "    shuffle=True,\n",
        ")"
      ],
      "execution_count": 25,
      "outputs": [
        {
          "output_type": "stream",
          "text": [
            "Epoch 1/10\n",
            "67/67 [==============================] - 4s 9ms/step - loss: 1.0884 - acc: 0.5466 - val_loss: 0.4410 - val_acc: 0.9786\n",
            "Epoch 2/10\n",
            "67/67 [==============================] - 0s 3ms/step - loss: 0.4964 - acc: 0.8472 - val_loss: 0.2350 - val_acc: 0.9924\n",
            "Epoch 3/10\n",
            "67/67 [==============================] - 0s 3ms/step - loss: 0.2958 - acc: 0.9550 - val_loss: 0.1373 - val_acc: 0.9969\n",
            "Epoch 4/10\n",
            "67/67 [==============================] - 0s 3ms/step - loss: 0.2072 - acc: 0.9688 - val_loss: 0.0929 - val_acc: 0.9969\n",
            "Epoch 5/10\n",
            "67/67 [==============================] - 0s 3ms/step - loss: 0.1423 - acc: 0.9807 - val_loss: 0.0636 - val_acc: 0.9969\n",
            "Epoch 6/10\n",
            "67/67 [==============================] - 0s 3ms/step - loss: 0.1130 - acc: 0.9787 - val_loss: 0.0512 - val_acc: 0.9969\n",
            "Epoch 7/10\n",
            "67/67 [==============================] - 0s 3ms/step - loss: 0.0860 - acc: 0.9870 - val_loss: 0.0399 - val_acc: 0.9985\n",
            "Epoch 8/10\n",
            "67/67 [==============================] - 0s 3ms/step - loss: 0.0666 - acc: 0.9900 - val_loss: 0.0268 - val_acc: 0.9985\n",
            "Epoch 9/10\n",
            "67/67 [==============================] - 0s 3ms/step - loss: 0.0682 - acc: 0.9893 - val_loss: 0.0268 - val_acc: 0.9985\n",
            "Epoch 10/10\n",
            "67/67 [==============================] - 0s 3ms/step - loss: 0.0504 - acc: 0.9900 - val_loss: 0.0217 - val_acc: 0.9985\n"
          ],
          "name": "stdout"
        }
      ]
    },
    {
      "cell_type": "code",
      "metadata": {
        "colab": {
          "base_uri": "https://localhost:8080/"
        },
        "id": "uvySclt0zV-H",
        "outputId": "ca5bf937-6901-447d-d4fa-a580149c2125"
      },
      "source": [
        "model.summary()"
      ],
      "execution_count": 26,
      "outputs": [
        {
          "output_type": "stream",
          "text": [
            "Model: \"sequential\"\n",
            "_________________________________________________________________\n",
            "Layer (type)                 Output Shape              Param #   \n",
            "=================================================================\n",
            "dense (Dense)                (None, 24)                600       \n",
            "_________________________________________________________________\n",
            "dropout (Dropout)            (None, 24)                0         \n",
            "_________________________________________________________________\n",
            "dense_1 (Dense)              (None, 32)                800       \n",
            "_________________________________________________________________\n",
            "dense_2 (Dense)              (None, 3)                 99        \n",
            "=================================================================\n",
            "Total params: 1,499\n",
            "Trainable params: 1,499\n",
            "Non-trainable params: 0\n",
            "_________________________________________________________________\n"
          ],
          "name": "stdout"
        }
      ]
    },
    {
      "cell_type": "markdown",
      "metadata": {
        "id": "81JPFJpdgXnx"
      },
      "source": [
        "#RESULTS "
      ]
    },
    {
      "cell_type": "code",
      "metadata": {
        "colab": {
          "base_uri": "https://localhost:8080/"
        },
        "id": "YaW5kExRvh7B",
        "outputId": "49eb40e7-47cf-4e9d-df5f-3f0e6af0f479"
      },
      "source": [
        "y_pred = model.predict(X_test)\n",
        "\n",
        "model.evaluate(X_test, y_test)"
      ],
      "execution_count": 27,
      "outputs": [
        {
          "output_type": "stream",
          "text": [
            "21/21 [==============================] - 0s 2ms/step - loss: 0.0217 - acc: 0.9985\n"
          ],
          "name": "stdout"
        },
        {
          "output_type": "execute_result",
          "data": {
            "text/plain": [
              "[0.021663442254066467, 0.9984732866287231]"
            ]
          },
          "metadata": {
            "tags": []
          },
          "execution_count": 27
        }
      ]
    },
    {
      "cell_type": "code",
      "metadata": {
        "colab": {
          "base_uri": "https://localhost:8080/",
          "height": 274
        },
        "id": "omyXhAixf-OI",
        "outputId": "cccf88c2-2892-4809-cb4b-1df11413057f"
      },
      "source": [
        "plt.plot(history.history['loss'], label='train loss')\n",
        "plt.plot(history.history['val_loss'], label='test loss')\n",
        "\n",
        "plt.plot(history.history['acc'], label='train accuracy')\n",
        "plt.plot(history.history['val_acc'], label='test accuracy')\n",
        "\n",
        "plt.legend();"
      ],
      "execution_count": 28,
      "outputs": [
        {
          "output_type": "display_data",
          "data": {
            "image/png": "[encoded data removed]",
            "text/plain": [
              "<Figure size 432x288 with 1 Axes>"
            ]
          },
          "metadata": {
            "tags": [],
            "image/png": {
              "width": 384,
              "height": 257
            },
            "needs_background": "light"
          }
        }
      ]
    },
    {
      "cell_type": "code",
      "metadata": {
        "id": "qK4txNm-VqLl"
      },
      "source": [
        "from sklearn.metrics import confusion_matrix\n",
        "\n",
        "def plot_cm(y_true, y_pred, class_names):\n",
        "  cm = confusion_matrix(y_true, y_pred)\n",
        "  fig, ax = plt.subplots(figsize=(16, 14)) \n",
        "  ax = sns.heatmap(\n",
        "      cm, \n",
        "      annot=True, \n",
        "      fmt=\"d\", \n",
        "      cmap=sns.diverging_palette(220, 20, n=7),\n",
        "      ax=ax\n",
        "  )\n",
        "\n",
        "  plt.ylabel('Actual')\n",
        "  plt.xlabel('Predicted')\n",
        "  ax.set_xticklabels(class_names)\n",
        "  ax.set_yticklabels(class_names)\n",
        "  b, t = plt.ylim()\n",
        "  b += 0.5 \n",
        "  t -= 0.5 \n",
        "  plt.ylim(b, t)\n",
        "  plt.show()"
      ],
      "execution_count": 29,
      "outputs": []
    },
    {
      "cell_type": "code",
      "metadata": {
        "colab": {
          "base_uri": "https://localhost:8080/",
          "height": 839
        },
        "id": "OhkOzpSt1vLA",
        "outputId": "7231625d-7cf0-4810-9442-3bbcb4b634ea"
      },
      "source": [
        "plot_cm(\n",
        "  enc.inverse_transform(y_test),\n",
        "  enc.inverse_transform(y_pred),\n",
        "  # enc.categories_[0]\n",
        "  [\"Folding\", \"Neutral\", \"Raising\"]\n",
        ")"
      ],
      "execution_count": 30,
      "outputs": [
        {
          "output_type": "display_data",
          "data": {
            "image/png": "[encoded data removed]",
            "text/plain": [
              "<Figure size 1152x1008 with 2 Axes>"
            ]
          },
          "metadata": {
            "tags": [],
            "image/png": {
              "width": 899,
              "height": 822
            },
            "needs_background": "light"
          }
        }
      ]
    },
    {
      "cell_type": "code",
      "metadata": {
        "colab": {
          "base_uri": "https://localhost:8080/"
        },
        "id": "IenB6l04oZZs",
        "outputId": "30bfbc20-1aa6-449b-d282-d8108029009b"
      },
      "source": [
        "# Evaluation metric in terms of precision, recall and f-score\n",
        "print(classification_report(enc.inverse_transform(y_test), enc.inverse_transform(y_pred)))"
      ],
      "execution_count": 31,
      "outputs": [
        {
          "output_type": "stream",
          "text": [
            "              precision    recall  f1-score   support\n",
            "\n",
            "           f       1.00      1.00      1.00       219\n",
            "           n       1.00      1.00      1.00       219\n",
            "           r       1.00      1.00      1.00       217\n",
            "\n",
            "    accuracy                           1.00       655\n",
            "   macro avg       1.00      1.00      1.00       655\n",
            "weighted avg       1.00      1.00      1.00       655\n",
            "\n"
          ],
          "name": "stdout"
        }
      ]
    },
    {
      "cell_type": "markdown",
      "metadata": {
        "id": "xVXtqxENgrzs"
      },
      "source": [
        "#SAVING THE MODEL"
      ]
    },
    {
      "cell_type": "code",
      "metadata": {
        "colab": {
          "base_uri": "https://localhost:8080/"
        },
        "id": "4lJ_XBhB3S6Q",
        "outputId": "4e43e843-e35e-43cc-e4e6-3d52e7326aef"
      },
      "source": [
        "# Remove the older files if present and store the latest model trained\n",
        "!rm keras.h5\n",
        "model.save('keras.h5')"
      ],
      "execution_count": 36,
      "outputs": [
        {
          "output_type": "stream",
          "text": [
            "rm: cannot remove 'keras.h5': No such file or directory\n"
          ],
          "name": "stdout"
        }
      ]
    },
    {
      "cell_type": "markdown",
      "metadata": {
        "id": "XCtKJDhTguxW"
      },
      "source": [
        "#CONVERTING TO TFJS"
      ]
    },
    {
      "cell_type": "code",
      "metadata": {
        "id": "Mqp65KYQTe_S"
      },
      "source": [
        "!pip install tensorflowjs"
      ],
      "execution_count": null,
      "outputs": []
    },
    {
      "cell_type": "code",
      "metadata": {
        "colab": {
          "base_uri": "https://localhost:8080/"
        },
        "id": "WTg-N_mCxv6U",
        "outputId": "7147100c-3602-4478-c5b3-a0df27495896"
      },
      "source": [
        "!rm -rf model/\n",
        "!mkdir model\n",
        "!tensorflowjs_converter --input_format keras keras.h5 model/"
      ],
      "execution_count": null,
      "outputs": [
        {
          "output_type": "stream",
          "text": [
            "2021-03-14 04:08:57.776579: I tensorflow/stream_executor/platform/default/dso_loader.cc:49] Successfully opened dynamic library libcudart.so.11.0\n"
          ],
          "name": "stdout"
        }
      ]
    },
    {
      "cell_type": "code",
      "metadata": {
        "id": "eV6OhN1_zm-j"
      },
      "source": [
        "!cp \"/content/keras.h5\" \"/content/model/\""
      ],
      "execution_count": null,
      "outputs": []
    },
    {
      "cell_type": "code",
      "metadata": {
        "colab": {
          "base_uri": "https://localhost:8080/"
        },
        "id": "Lvkjryqtx-9z",
        "outputId": "f5e0894d-f7f4-452b-be8a-f5dd8bf7ec27"
      },
      "source": [
        "!rm model.zip\n",
        "!zip -r model.zip model"
      ],
      "execution_count": null,
      "outputs": [
        {
          "output_type": "stream",
          "text": [
            "rm: cannot remove 'model.zip': No such file or directory\n",
            "  adding: model/ (stored 0%)\n",
            "  adding: model/keras.h5 (deflated 60%)\n",
            "  adding: model/model.json (deflated 74%)\n",
            "  adding: model/group1-shard1of1.bin (deflated 7%)\n"
          ],
          "name": "stdout"
        }
      ]
    },
    {
      "cell_type": "markdown",
      "metadata": {
        "id": "pyeIUzynzaSO"
      },
      "source": [
        "# Download the model"
      ]
    },
    {
      "cell_type": "code",
      "metadata": {
        "colab": {
          "base_uri": "https://localhost:8080/",
          "height": 17
        },
        "id": "2yI1ibjOyIhm",
        "outputId": "d33d2948-e4de-4262-e77b-98339227ba30"
      },
      "source": [
        "# The zip file contains the original .h5 keras model along with the model required for Tensorflow-JS\n",
        "\n",
        "from google.colab import files\n",
        "files.download('model.zip') "
      ],
      "execution_count": null,
      "outputs": [
        {
          "output_type": "display_data",
          "data": {
            "application/javascript": [
              "\n",
              "    async function download(id, filename, size) {\n",
              "      if (!google.colab.kernel.accessAllowed) {\n",
              "        return;\n",
              "      }\n",
              "      const div = document.createElement('div');\n",
              "      const label = document.createElement('label');\n",
              "      label.textContent = `Downloading \"${filename}\": `;\n",
              "      div.appendChild(label);\n",
              "      const progress = document.createElement('progress');\n",
              "      progress.max = size;\n",
              "      div.appendChild(progress);\n",
              "      document.body.appendChild(div);\n",
              "\n",
              "      const buffers = [];\n",
              "      let downloaded = 0;\n",
              "\n",
              "      const channel = await google.colab.kernel.comms.open(id);\n",
              "      // Send a message to notify the kernel that we're ready.\n",
              "      channel.send({})\n",
              "\n",
              "      for await (const message of channel.messages) {\n",
              "        // Send a message to notify the kernel that we're ready.\n",
              "        channel.send({})\n",
              "        if (message.buffers) {\n",
              "          for (const buffer of message.buffers) {\n",
              "            buffers.push(buffer);\n",
              "            downloaded += buffer.byteLength;\n",
              "            progress.value = downloaded;\n",
              "          }\n",
              "        }\n",
              "      }\n",
              "      const blob = new Blob(buffers, {type: 'application/binary'});\n",
              "      const a = document.createElement('a');\n",
              "      a.href = window.URL.createObjectURL(blob);\n",
              "      a.download = filename;\n",
              "      div.appendChild(a);\n",
              "      a.click();\n",
              "      div.remove();\n",
              "    }\n",
              "  "
            ],
            "text/plain": [
              "<IPython.core.display.Javascript object>"
            ]
          },
          "metadata": {
            "tags": []
          }
        },
        {
          "output_type": "display_data",
          "data": {
            "application/javascript": [
              "download(\"download_41dca277-e626-4fe9-86b1-30aa7423070c\", \"model.zip\", 27010)"
            ],
            "text/plain": [
              "<IPython.core.display.Javascript object>"
            ]
          },
          "metadata": {
            "tags": []
          }
        }
      ]
    }
  ]
}